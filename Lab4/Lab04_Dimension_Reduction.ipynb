{
  "cells": [
    {
      "cell_type": "code",
      "execution_count": 3,
      "metadata": {
        "colab": {
          "base_uri": "https://localhost:8080/"
        },
        "id": "rFqrBVhht_bh",
        "outputId": "d747fb32-272f-4d19-c7c7-f95cbcfafa09"
      },
      "outputs": [
        {
          "name": "stderr",
          "output_type": "stream",
          "text": [
            "[nltk_data] Downloading package punkt to\n",
            "[nltk_data]     C:\\Users\\tomev\\AppData\\Roaming\\nltk_data...\n",
            "[nltk_data]   Package punkt is already up-to-date!\n",
            "[nltk_data] Downloading package stopwords to\n",
            "[nltk_data]     C:\\Users\\tomev\\AppData\\Roaming\\nltk_data...\n",
            "[nltk_data]   Package stopwords is already up-to-date!\n"
          ]
        }
      ],
      "source": [
        "#In this lab, the key goal is to try and do dimension reduction. To this end, we will use a dataset of our choise and play with dimension reduction techniques. We will focus on text dataset.\n",
        "#We will follow the example mentioned in this path-breaking paper: http://wordvec.colorado.edu/papers/Landauer_Foltz_Laham_1998.pdf\n",
        "import string\n",
        "import re\n",
        "import nltk\n",
        "nltk.download('punkt')\n",
        "from nltk import word_tokenize\n",
        "from sklearn.preprocessing import MultiLabelBinarizer\n",
        "from nltk.corpus import stopwords\n",
        "nltk.download('stopwords')\n",
        "from scipy.linalg import svd\n",
        "import matplotlib.pyplot as plt\n",
        "from mlxtend.data import iris_data\n",
        "from mlxtend.plotting import scatterplotmatrix"
      ]
    },
    {
      "cell_type": "code",
      "execution_count": 4,
      "metadata": {
        "colab": {
          "base_uri": "https://localhost:8080/"
        },
        "id": "uK1JJj0zuLWM",
        "outputId": "b6442357-ca17-4121-8f27-a35d92b41d9c"
      },
      "outputs": [
        {
          "name": "stdout",
          "output_type": "stream",
          "text": [
            "['Human machine interface for ABC computer applications', 'A survey of user opinion of computer system response time', 'The EPS user interface management system', 'System and human system engineering testing of EPS', 'Relation of user perceived response time to error measurement', 'The generation of random, binary, ordered trees', 'The intersection graph of paths in trees', 'Graph minors IV: Widths of trees and well-quasi-ordering', 'Graph minors: A survey']\n"
          ]
        }
      ],
      "source": [
        "#In the command below we are creating our sample dataset that we will use in this lab. This is a text dataset in the raw form.\n",
        "Sentences = [\"Human machine interface for ABC computer applications\", \"A survey of user opinion of computer system response time\", \"The EPS user interface management system\", \"System and human system engineering testing of EPS\", \"Relation of user perceived response time to error measurement\", \"The generation of random, binary, ordered trees\", \"The intersection graph of paths in trees\", \"Graph minors IV: Widths of trees and well-quasi-ordering\", \"Graph minors: A survey\"]\n",
        "print(Sentences)"
      ]
    },
    {
      "cell_type": "code",
      "execution_count": 5,
      "metadata": {
        "colab": {
          "base_uri": "https://localhost:8080/"
        },
        "id": "NY1YnQIhxf-H",
        "outputId": "77e7c00b-0bfc-4585-f7d9-2b2ecd60fe2f"
      },
      "outputs": [
        {
          "name": "stdout",
          "output_type": "stream",
          "text": [
            "Human machine interface for ABC computer applications\n",
            "A survey of user opinion of computer system response time\n",
            "The EPS user interface management system\n",
            "System and human system engineering testing of EPS\n",
            "Relation of user perceived response time to error measurement\n",
            "The generation of random, binary, ordered trees\n",
            "The intersection graph of paths in trees\n",
            "Graph minors IV: Widths of trees and well-quasi-ordering\n",
            "Graph minors: A survey\n",
            "['Human machine interface for ABC computer applications', 'A survey of user opinion of computer system response time', 'The EPS user interface management system', 'System and human system engineering testing of EPS', 'Relation of user perceived response time to error measurement', 'The generation of random, binary, ordered trees', 'The intersection graph of paths in trees', 'Graph minors IV: Widths of trees and well-quasi-ordering', 'Graph minors: A survey']\n"
          ]
        }
      ],
      "source": [
        "#Let's do some pre-processing of the text above that we could later use in our analysis. In the code below we are iterating over each element in the list/array created above.\n",
        "NewSentences = []\n",
        "for OneSentence in Sentences:\n",
        "    print(OneSentence)\n",
        "    NewSentences.append(OneSentence)\n",
        "\n",
        "Sentences = NewSentences[:]\n",
        "print(Sentences)"
      ]
    },
    {
      "cell_type": "code",
      "execution_count": 6,
      "metadata": {
        "colab": {
          "base_uri": "https://localhost:8080/"
        },
        "id": "RZLL6VLkx3jK",
        "outputId": "d39b328d-61ea-46c2-b8e8-85a16a709294"
      },
      "outputs": [
        {
          "name": "stdout",
          "output_type": "stream",
          "text": [
            "['human machine interface for abc computer applications', 'a survey of user opinion of computer system response time', 'the eps user interface management system', 'system and human system engineering testing of eps', 'relation of user perceived response time to error measurement', 'the generation of random, binary, ordered trees', 'the intersection graph of paths in trees', 'graph minors iv: widths of trees and well-quasi-ordering', 'graph minors: a survey']\n"
          ]
        }
      ],
      "source": [
        "#Let's lowercase each word in the list above\n",
        "NewSentences = []\n",
        "for OneSentence in Sentences:\n",
        "  OneSentence = OneSentence.lower()\n",
        "  NewSentences.append(OneSentence)\n",
        "\n",
        "Sentences = NewSentences[:]\n",
        "print(Sentences)"
      ]
    },
    {
      "cell_type": "code",
      "execution_count": 7,
      "metadata": {
        "colab": {
          "base_uri": "https://localhost:8080/"
        },
        "id": "xxAP3tV885hy",
        "outputId": "61293ecd-f6c2-4a40-852f-742c1daa56da"
      },
      "outputs": [
        {
          "name": "stdout",
          "output_type": "stream",
          "text": [
            "['human machine interface abc computer applications', 'survey user opinion computer system response time', 'eps user interface management system', 'system human system engineering testing eps', 'relation user perceived response time error measurement', 'generation random, binary, ordered trees', 'intersection graph paths trees', 'graph minors iv: widths trees well-quasi-ordering', 'graph minors: survey']\n"
          ]
        }
      ],
      "source": [
        "#Next step is to remove stop words from text. This helps reduce the dimensions of the matrix that we create.\n",
        "NewSentences = []\n",
        "stopwords_dict = {word: 1 for word in stopwords.words(\"english\")}\n",
        "for OneSentence in Sentences:\n",
        "  OneSentence = \" \".join([word for word in OneSentence.split() if word not in stopwords_dict])\n",
        "  NewSentences.append(OneSentence)\n",
        "\n",
        "Sentences = NewSentences[:]\n",
        "print(Sentences)"
      ]
    },
    {
      "cell_type": "code",
      "execution_count": 9,
      "metadata": {
        "colab": {
          "base_uri": "https://localhost:8080/"
        },
        "id": "jCmkbgriyF70",
        "outputId": "e1ff5bf7-a36f-407e-f663-7f5197e47125"
      },
      "outputs": [
        {
          "name": "stdout",
          "output_type": "stream",
          "text": [
            "['human machine interface abc computer applications', 'survey user opinion computer system response time', 'eps user interface management system', 'system human system engineering testing eps', 'relation user perceived response time error measurement', 'generation random binary ordered trees', 'intersection graph paths trees', 'graph minors iv widths trees wellquasiordering', 'graph minors survey']\n"
          ]
        }
      ],
      "source": [
        "#Now, we remove punctuations from string\n",
        "NewSentences = []\n",
        "for word in Sentences:\n",
        "    for character in word:\n",
        "        if character in string.punctuation:\n",
        "            word = word.replace(character,\"\")\n",
        "    NewSentences.append(word)\n",
        "\n",
        "Sentences = NewSentences[:]\n",
        "print(Sentences)"
      ]
    },
    {
      "cell_type": "code",
      "execution_count": 10,
      "metadata": {
        "colab": {
          "base_uri": "https://localhost:8080/"
        },
        "id": "YmhwrRq42HIP",
        "outputId": "5b3516d4-ac22-4cc9-f70b-7a89e4acdcc9"
      },
      "outputs": [
        {
          "name": "stdout",
          "output_type": "stream",
          "text": [
            "['human machine interface abc computer applications', 'survey user opinion computer system response time', 'eps user interface management system', 'system human system engineering testing eps', 'relation user perceived response time error measurement', 'generation random binary ordered trees', 'intersection graph paths trees', 'graph minors iv widths trees wellquasiordering', 'graph minors survey']\n"
          ]
        }
      ],
      "source": [
        "#The code above has a problem. Please look carefully and let me know where the problems are. We must fix the problems before moving ahead. Besides that, how will you ensure that the fixed text is used in your future runs.\n",
        "NewSentences = []\n",
        "for word in Sentences:\n",
        "    for character in word:\n",
        "        if character in string.punctuation:\n",
        "            word = re.sub('[^a-zA-Z0-9]+\\s*', ' ', word)\n",
        "    NewSentences.append(word)\n",
        "\n",
        "Sentences = NewSentences[:]\n",
        "print(Sentences)"
      ]
    },
    {
      "cell_type": "code",
      "execution_count": 11,
      "metadata": {
        "colab": {
          "base_uri": "https://localhost:8080/"
        },
        "id": "sRfQhcJL25mX",
        "outputId": "39c69697-d394-4247-dad7-dc265684af5d"
      },
      "outputs": [
        {
          "name": "stdout",
          "output_type": "stream",
          "text": [
            "[['human', 'machine', 'interface', 'abc', 'computer', 'applications'], ['survey', 'user', 'opinion', 'computer', 'system', 'response', 'time'], ['eps', 'user', 'interface', 'management', 'system'], ['system', 'human', 'system', 'engineering', 'testing', 'eps'], ['relation', 'user', 'perceived', 'response', 'time', 'error', 'measurement'], ['generation', 'random', 'binary', 'ordered', 'trees'], ['intersection', 'graph', 'paths', 'trees'], ['graph', 'minors', 'iv', 'widths', 'trees', 'wellquasiordering'], ['graph', 'minors', 'survey']]\n"
          ]
        }
      ],
      "source": [
        "#A common step in natural language processing is tokenising the string (https://en.wikipedia.org/wiki/Lexical_analysis#Tokenization).\n",
        "Sentences = [word_tokenize(i) for i in Sentences]\n",
        "print(Sentences)"
      ]
    },
    {
      "cell_type": "code",
      "execution_count": 12,
      "metadata": {
        "colab": {
          "base_uri": "https://localhost:8080/"
        },
        "id": "pDZ72i1L5K0P",
        "outputId": "ad3510bb-e829-4391-ab6e-8cdf5618fe05"
      },
      "outputs": [
        {
          "name": "stdout",
          "output_type": "stream",
          "text": [
            "[[1 1 0 1 0 0 0 0 0 1 1 0 0 1 0 0 0 0 0 0 0 0 0 0 0 0 0 0 0 0 0 0]\n",
            " [0 0 0 1 0 0 0 0 0 0 0 0 0 0 0 0 0 1 0 0 0 0 0 1 1 1 0 1 0 1 0 0]\n",
            " [0 0 0 0 0 1 0 0 0 0 1 0 0 0 1 0 0 0 0 0 0 0 0 0 0 1 0 0 0 1 0 0]\n",
            " [0 0 0 0 1 1 0 0 0 1 0 0 0 0 0 0 0 0 0 0 0 0 0 0 0 1 1 0 0 0 0 0]\n",
            " [0 0 0 0 0 0 1 0 0 0 0 0 0 0 0 1 0 0 0 0 1 0 1 1 0 0 0 1 0 1 0 0]\n",
            " [0 0 1 0 0 0 0 1 0 0 0 0 0 0 0 0 0 0 1 0 0 1 0 0 0 0 0 0 1 0 0 0]\n",
            " [0 0 0 0 0 0 0 0 1 0 0 1 0 0 0 0 0 0 0 1 0 0 0 0 0 0 0 0 1 0 0 0]\n",
            " [0 0 0 0 0 0 0 0 1 0 0 0 1 0 0 0 1 0 0 0 0 0 0 0 0 0 0 0 1 0 1 1]\n",
            " [0 0 0 0 0 0 0 0 1 0 0 0 0 0 0 0 1 0 0 0 0 0 0 0 1 0 0 0 0 0 0 0]]\n"
          ]
        }
      ],
      "source": [
        "#Create a term document matrix: https://en.wikipedia.org/wiki/Document-term_matrix\n",
        "mlb = MultiLabelBinarizer()\n",
        "TermDocumentMatrix = mlb.fit_transform(Sentences)\n",
        "print(TermDocumentMatrix)"
      ]
    },
    {
      "cell_type": "code",
      "execution_count": 13,
      "metadata": {
        "colab": {
          "base_uri": "https://localhost:8080/"
        },
        "id": "IDGPi64o5qXG",
        "outputId": "7d1f8be7-aa4e-434d-e2f0-d489dca6d294"
      },
      "outputs": [
        {
          "name": "stdout",
          "output_type": "stream",
          "text": [
            "['abc' 'applications' 'binary' 'computer' 'engineering' 'eps' 'error'\n",
            " 'generation' 'graph' 'human' 'interface' 'intersection' 'iv' 'machine'\n",
            " 'management' 'measurement' 'minors' 'opinion' 'ordered' 'paths'\n",
            " 'perceived' 'random' 'relation' 'response' 'survey' 'system' 'testing'\n",
            " 'time' 'trees' 'user' 'wellquasiordering' 'widths']\n"
          ]
        }
      ],
      "source": [
        "#Print the vocabulary: https://en.wikipedia.org/wiki/Vocabulary\n",
        "print(mlb.classes_)"
      ]
    },
    {
      "cell_type": "code",
      "execution_count": 17,
      "metadata": {
        "colab": {
          "base_uri": "https://localhost:8080/"
        },
        "id": "PP95StHi5293",
        "outputId": "1b3a1b8b-6af8-4b87-a36b-e27df79c219e"
      },
      "outputs": [
        {
          "name": "stdout",
          "output_type": "stream",
          "text": [
            "[3.39280757 2.93831349 2.67930204 2.22042574 2.18339269 1.94099042\n",
            " 1.68767563 1.64651827 1.28541893]\n"
          ]
        }
      ],
      "source": [
        "U, s, VT = svd(TermDocumentMatrix)\n",
        "#print(U)\n",
        "print(s)\n",
        "#print(VT)"
      ]
    },
    {
      "cell_type": "code",
      "execution_count": 18,
      "metadata": {
        "colab": {
          "base_uri": "https://localhost:8080/"
        },
        "id": "ntRPRpa1-qV4",
        "outputId": "79df50ae-59b2-4d64-8a92-9049833e479b"
      },
      "outputs": [
        {
          "name": "stdout",
          "output_type": "stream",
          "text": [
            "[3.39280757 2.93831349]\n"
          ]
        }
      ],
      "source": [
        "#Select only first 2 Eigen values\n",
        "s = s[0:2]\n",
        "print(s)"
      ]
    },
    {
      "cell_type": "code",
      "execution_count": 19,
      "metadata": {
        "colab": {
          "base_uri": "https://localhost:8080/"
        },
        "id": "VIQJmOVZ-0yR",
        "outputId": "a7e586cc-8231-4e76-967a-845198142f95"
      },
      "outputs": [
        {
          "name": "stdout",
          "output_type": "stream",
          "text": [
            "(9, 9)\n",
            "(32, 32)\n",
            "(2,)\n",
            "[[-0.23853483  0.04251216]\n",
            " [-0.65616606  0.0097718 ]\n",
            " [-0.39858972  0.05663242]\n",
            " [-0.25984382  0.04555946]\n",
            " [-0.52472018  0.05260975]\n",
            " [-0.01058475 -0.33133447]\n",
            " [-0.02510348 -0.46466881]\n",
            " [-0.04381532 -0.73929666]\n",
            " [-0.09034041 -0.34320164]]\n",
            "[[-7.03060292e-02 -7.03060292e-02]\n",
            " [ 1.44682169e-02  1.44682169e-02]\n",
            " [ 2.10816350e-01  2.10816350e-01]\n",
            " [-3.47070901e-01 -3.47070901e-01]\n",
            " [ 3.92977040e-02  3.92977040e-02]\n",
            " [-7.19220609e-02 -7.19220609e-02]\n",
            " [ 1.60115605e-03  1.60115605e-03]\n",
            " [-3.15459375e-03 -3.15459375e-03]\n",
            " [ 2.98314487e-02  2.98314487e-02]\n",
            " [-6.07330227e-01 -5.97536408e-02]\n",
            " [-2.57961124e-01 -1.94246161e-01]\n",
            " [-4.98002946e-02  1.21487837e-02]\n",
            " [-1.90420052e-02  1.88393582e-02]\n",
            " [-3.86856887e-01 -1.66332565e-01]\n",
            " [ 1.28895763e-01 -2.79135957e-02]\n",
            " [-1.03322361e-01  3.14187500e-02]\n",
            " [ 3.06236276e-03  9.55423166e-06]\n",
            " [-8.91688678e-02  3.26759977e-01]\n",
            " [-2.71862778e-02  2.89825762e-02]\n",
            " [-4.98002946e-02  1.21487837e-02]\n",
            " [-1.03322361e-01  3.14187500e-02]\n",
            " [-2.71862778e-02  2.89825762e-02]\n",
            " [-1.03322361e-01  3.14187500e-02]\n",
            " [-1.92491229e-01  3.58178727e-01]\n",
            " [-6.70644998e-02  3.07930173e-01]\n",
            " [-1.80746445e-01  4.05425306e-01]\n",
            " [-2.20473340e-01  1.06578925e-01]\n",
            " [-1.92491229e-01  3.58178727e-01]\n",
            " [-9.60285776e-02  5.99707181e-02]\n",
            " [-6.35954661e-02  3.30265131e-01]\n",
            " [-1.90420052e-02  1.88393582e-02]\n",
            " [-1.90420052e-02  1.88393582e-02]]\n",
            "[[-0.80930277  0.12491404]\n",
            " [-2.22624516  0.02871261]\n",
            " [-1.35233823  0.16640379]\n",
            " [-0.88160008  0.13386798]\n",
            " [-1.78027461  0.15458393]\n",
            " [-0.03591201 -0.97356454]\n",
            " [-0.08517126 -1.36534263]\n",
            " [-0.14865696 -2.17228534]\n",
            " [-0.30650763 -1.00843401]]\n",
            "[[-2.38534828e-01 -2.06581154e-01]\n",
            " [ 4.90878760e-02  4.25121570e-02]\n",
            " [ 7.15259309e-01  6.19444525e-01]\n",
            " [-1.17754478e+00 -1.01980311e+00]\n",
            " [ 1.33329548e-01  1.15468974e-01]\n",
            " [-2.44017713e-01 -2.11329561e-01]\n",
            " [ 5.43241438e-03  4.70469842e-03]\n",
            " [-1.07029295e-02 -9.26918535e-03]\n",
            " [ 1.01212365e-01  8.76541480e-02]\n",
            " [-2.06055459e+00 -1.75574929e-01]\n",
            " [-8.75212455e-01 -5.70756115e-01]\n",
            " [-1.68962816e-01  3.56969350e-02]\n",
            " [-6.46058594e-02  5.53559403e-02]\n",
            " [-1.31253097e+00 -4.88737220e-01]\n",
            " [ 4.37318520e-01 -8.20188947e-02]\n",
            " [-3.50552889e-01  9.23181367e-02]\n",
            " [ 1.03900076e-02  2.80733277e-05]\n",
            " [-3.02532810e-01  9.60123246e-01]\n",
            " [-9.22378090e-02  8.51598946e-02]\n",
            " [-1.68962816e-01  3.56969350e-02]\n",
            " [-3.50552889e-01  9.23181367e-02]\n",
            " [-9.22378090e-02  8.51598946e-02]\n",
            " [-3.50552889e-01  9.23181367e-02]\n",
            " [-6.53085699e-01  1.05244138e+00]\n",
            " [-2.27536943e-01  9.04795380e-01]\n",
            " [-6.13237908e-01  1.19126664e+00]\n",
            " [-7.48023618e-01  3.13162292e-01]\n",
            " [-6.53085699e-01  1.05244138e+00]\n",
            " [-3.25806485e-01  1.76212770e-01]\n",
            " [-2.15767179e-01  9.70422489e-01]\n",
            " [-6.46058594e-02  5.53559403e-02]\n",
            " [-6.46058594e-02  5.53559403e-02]]\n"
          ]
        }
      ],
      "source": [
        "#Now, let's start reducing the dimension of the U and V matrices\n",
        "#Remember, in matrix multiplication, the first matrix's number of columns must be equal to the number of rows in the second matrix.\n",
        "#Print the matrix dimensions\n",
        "print(U.shape)\n",
        "print(VT.shape)\n",
        "print(s.shape)\n",
        "U_small = U[:,0:2]\n",
        "VT_small = VT[:,0:2]\n",
        "print(U_small)\n",
        "print(VT_small)\n",
        "ReducedU_small = U_small * s\n",
        "ReducedVT_small = VT_small * s\n",
        "print(ReducedU_small)\n",
        "print(ReducedVT_small)"
      ]
    },
    {
      "cell_type": "code",
      "execution_count": 20,
      "metadata": {
        "colab": {
          "base_uri": "https://localhost:8080/",
          "height": 807
        },
        "id": "EEHR2E8xLCoY",
        "outputId": "5be3ba67-bb6b-4e6f-85f2-545f21d8c75e"
      },
      "outputs": [
        {
          "data": {
            "image/png": "[encoded data removed]",
            "text/plain": [
              "<Figure size 1000x800 with 4 Axes>"
            ]
          },
          "metadata": {},
          "output_type": "display_data"
        }
      ],
      "source": [
        "#Plot matrices\n",
        "scatterplotmatrix(ReducedVT_small, figsize=(10, 8), names = mlb.classes_)\n",
        "plt.tight_layout()\n",
        "plt.show()"
      ]
    },
    {
      "cell_type": "code",
      "execution_count": 21,
      "metadata": {
        "colab": {
          "base_uri": "https://localhost:8080/",
          "height": 430
        },
        "id": "CfXnpmMzMWf_",
        "outputId": "c29ca6f3-9521-4e20-e4bd-4c5d05ab79d5"
      },
      "outputs": [
        {
          "data": {
            "image/png": "[encoded data removed]",
            "text/plain": [
              "<Figure size 640x480 with 1 Axes>"
            ]
          },
          "metadata": {},
          "output_type": "display_data"
        }
      ],
      "source": [
        "fig, ax = plt.subplots()\n",
        "x = ReducedVT_small[:,0]\n",
        "y = ReducedVT_small[:,1]\n",
        "n = mlb.classes_\n",
        "ax.scatter(y,x)\n",
        "for i, txt in enumerate(n):\n",
        "    ax.annotate(txt, (y[i], x[i]))"
      ]
    }
  ],
  "metadata": {
    "colab": {
      "provenance": []
    },
    "kernelspec": {
      "display_name": "Python 3",
      "name": "python3"
    },
    "language_info": {
      "codemirror_mode": {
        "name": "ipython",
        "version": 3
      },
      "file_extension": ".py",
      "mimetype": "text/x-python",
      "name": "python",
      "nbconvert_exporter": "python",
      "pygments_lexer": "ipython3",
      "version": "3.11.6"
    }
  },
  "nbformat": 4,
  "nbformat_minor": 0
}
